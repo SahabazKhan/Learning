{
 "cells": [
  {
   "cell_type": "markdown",
   "id": "791080e5",
   "metadata": {},
   "source": [
    "#  Machine Learing Model to Prevent Fraudulent Transaction"
   ]
  },
  {
   "cell_type": "code",
   "execution_count": 1,
   "id": "febe2136",
   "metadata": {},
   "outputs": [],
   "source": [
    "#!pip install seaborn\n",
    "#!pip install numpy\n",
    "#!pip install pandas\n",
    "#!pip install sklearn\n",
    "#!pip install tqdm\n",
    "#!pip install xgboost\n",
    "#!pip install matplotlib\n",
    "#!pip install statsmodels\n",
    "#!pip install xgboost\n",
    "#!pip install sklearn"
   ]
  },
  {
   "cell_type": "markdown",
   "id": "46b9583b",
   "metadata": {},
   "source": [
    "#### You may or may not have to install the Libraries and Algorithms shown above as they are already installed. However in this case we are going to use multiple libraries and algorithms more than once. Sometimes it can happen that some MODULE may give `Module not found` when used, in my case it was the `imblearn` module. In a situation like this You just go to `1. Anaconda Navigator` then `Anaconda Prompt ` in the command line type `conda install -c conda-forge imbalanced-learn` hit `Enter` and `restart your karnel`. You can apply it for other Modules and libraries too."
   ]
  },
  {
   "cell_type": "markdown",
   "id": "f3b68dd7",
   "metadata": {},
   "source": [
    "#### First we *Import* :\n",
    "##### `Pandas` : open source Python package that is most widely used for data science/data analysis and machine learning tasks. `NUmpy` a library having multidimensional array objects and a collection of routines for processing those arrays. `Seaborn`, a Python data visualization library based on matplotlib. "
   ]
  },
  {
   "cell_type": "code",
   "execution_count": 1,
   "id": "c7d2e886",
   "metadata": {},
   "outputs": [],
   "source": [
    "import pandas as pd\n",
    "import seaborn as sea\n",
    "import numpy as np"
   ]
  },
  {
   "cell_type": "markdown",
   "id": "a7a052b4",
   "metadata": {},
   "source": [
    "#### Now we read our given `Fraud.csv` file with `read_csv`. And keeping data in `csv_dt` variable. Here I printed FIRST and LAST FIVE rows using `head() and tail()` function."
   ]
  },
  {
   "cell_type": "code",
   "execution_count": 2,
   "id": "76a7615d",
   "metadata": {},
   "outputs": [],
   "source": [
    "csv_dt=pd.read_csv('Fraud.csv')"
   ]
  },
  {
   "cell_type": "code",
   "execution_count": 3,
   "id": "1e4697da",
   "metadata": {},
   "outputs": [
    {
     "data": {
      "text/html": [
       "<div>\n",
       "<style scoped>\n",
       "    .dataframe tbody tr th:only-of-type {\n",
       "        vertical-align: middle;\n",
       "    }\n",
       "\n",
       "    .dataframe tbody tr th {\n",
       "        vertical-align: top;\n",
       "    }\n",
       "\n",
       "    .dataframe thead th {\n",
       "        text-align: right;\n",
       "    }\n",
       "</style>\n",
       "<table border=\"1\" class=\"dataframe\">\n",
       "  <thead>\n",
       "    <tr style=\"text-align: right;\">\n",
       "      <th></th>\n",
       "      <th>step</th>\n",
       "      <th>type</th>\n",
       "      <th>amount</th>\n",
       "      <th>nameOrig</th>\n",
       "      <th>oldbalanceOrg</th>\n",
       "      <th>newbalanceOrig</th>\n",
       "      <th>nameDest</th>\n",
       "      <th>oldbalanceDest</th>\n",
       "      <th>newbalanceDest</th>\n",
       "      <th>isFraud</th>\n",
       "      <th>isFlaggedFraud</th>\n",
       "    </tr>\n",
       "  </thead>\n",
       "  <tbody>\n",
       "    <tr>\n",
       "      <th>0</th>\n",
       "      <td>1</td>\n",
       "      <td>PAYMENT</td>\n",
       "      <td>9839.64</td>\n",
       "      <td>C1231006815</td>\n",
       "      <td>170136.0</td>\n",
       "      <td>160296.36</td>\n",
       "      <td>M1979787155</td>\n",
       "      <td>0.0</td>\n",
       "      <td>0.0</td>\n",
       "      <td>0</td>\n",
       "      <td>0</td>\n",
       "    </tr>\n",
       "    <tr>\n",
       "      <th>1</th>\n",
       "      <td>1</td>\n",
       "      <td>PAYMENT</td>\n",
       "      <td>1864.28</td>\n",
       "      <td>C1666544295</td>\n",
       "      <td>21249.0</td>\n",
       "      <td>19384.72</td>\n",
       "      <td>M2044282225</td>\n",
       "      <td>0.0</td>\n",
       "      <td>0.0</td>\n",
       "      <td>0</td>\n",
       "      <td>0</td>\n",
       "    </tr>\n",
       "    <tr>\n",
       "      <th>2</th>\n",
       "      <td>1</td>\n",
       "      <td>TRANSFER</td>\n",
       "      <td>181.00</td>\n",
       "      <td>C1305486145</td>\n",
       "      <td>181.0</td>\n",
       "      <td>0.00</td>\n",
       "      <td>C553264065</td>\n",
       "      <td>0.0</td>\n",
       "      <td>0.0</td>\n",
       "      <td>1</td>\n",
       "      <td>0</td>\n",
       "    </tr>\n",
       "    <tr>\n",
       "      <th>3</th>\n",
       "      <td>1</td>\n",
       "      <td>CASH_OUT</td>\n",
       "      <td>181.00</td>\n",
       "      <td>C840083671</td>\n",
       "      <td>181.0</td>\n",
       "      <td>0.00</td>\n",
       "      <td>C38997010</td>\n",
       "      <td>21182.0</td>\n",
       "      <td>0.0</td>\n",
       "      <td>1</td>\n",
       "      <td>0</td>\n",
       "    </tr>\n",
       "    <tr>\n",
       "      <th>4</th>\n",
       "      <td>1</td>\n",
       "      <td>PAYMENT</td>\n",
       "      <td>11668.14</td>\n",
       "      <td>C2048537720</td>\n",
       "      <td>41554.0</td>\n",
       "      <td>29885.86</td>\n",
       "      <td>M1230701703</td>\n",
       "      <td>0.0</td>\n",
       "      <td>0.0</td>\n",
       "      <td>0</td>\n",
       "      <td>0</td>\n",
       "    </tr>\n",
       "  </tbody>\n",
       "</table>\n",
       "</div>"
      ],
      "text/plain": [
       "   step      type    amount     nameOrig  oldbalanceOrg  newbalanceOrig  \\\n",
       "0     1   PAYMENT   9839.64  C1231006815       170136.0       160296.36   \n",
       "1     1   PAYMENT   1864.28  C1666544295        21249.0        19384.72   \n",
       "2     1  TRANSFER    181.00  C1305486145          181.0            0.00   \n",
       "3     1  CASH_OUT    181.00   C840083671          181.0            0.00   \n",
       "4     1   PAYMENT  11668.14  C2048537720        41554.0        29885.86   \n",
       "\n",
       "      nameDest  oldbalanceDest  newbalanceDest  isFraud  isFlaggedFraud  \n",
       "0  M1979787155             0.0             0.0        0               0  \n",
       "1  M2044282225             0.0             0.0        0               0  \n",
       "2   C553264065             0.0             0.0        1               0  \n",
       "3    C38997010         21182.0             0.0        1               0  \n",
       "4  M1230701703             0.0             0.0        0               0  "
      ]
     },
     "execution_count": 3,
     "metadata": {},
     "output_type": "execute_result"
    }
   ],
   "source": [
    "csv_dt.head()"
   ]
  },
  {
   "cell_type": "code",
   "execution_count": 5,
   "id": "dac2e49d",
   "metadata": {},
   "outputs": [
    {
     "data": {
      "text/html": [
       "<div>\n",
       "<style scoped>\n",
       "    .dataframe tbody tr th:only-of-type {\n",
       "        vertical-align: middle;\n",
       "    }\n",
       "\n",
       "    .dataframe tbody tr th {\n",
       "        vertical-align: top;\n",
       "    }\n",
       "\n",
       "    .dataframe thead th {\n",
       "        text-align: right;\n",
       "    }\n",
       "</style>\n",
       "<table border=\"1\" class=\"dataframe\">\n",
       "  <thead>\n",
       "    <tr style=\"text-align: right;\">\n",
       "      <th></th>\n",
       "      <th>step</th>\n",
       "      <th>type</th>\n",
       "      <th>amount</th>\n",
       "      <th>nameOrig</th>\n",
       "      <th>oldbalanceOrg</th>\n",
       "      <th>newbalanceOrig</th>\n",
       "      <th>nameDest</th>\n",
       "      <th>oldbalanceDest</th>\n",
       "      <th>newbalanceDest</th>\n",
       "      <th>isFraud</th>\n",
       "      <th>isFlaggedFraud</th>\n",
       "    </tr>\n",
       "  </thead>\n",
       "  <tbody>\n",
       "    <tr>\n",
       "      <th>6362615</th>\n",
       "      <td>743</td>\n",
       "      <td>CASH_OUT</td>\n",
       "      <td>339682.13</td>\n",
       "      <td>C786484425</td>\n",
       "      <td>339682.13</td>\n",
       "      <td>0.0</td>\n",
       "      <td>C776919290</td>\n",
       "      <td>0.00</td>\n",
       "      <td>339682.13</td>\n",
       "      <td>1</td>\n",
       "      <td>0</td>\n",
       "    </tr>\n",
       "    <tr>\n",
       "      <th>6362616</th>\n",
       "      <td>743</td>\n",
       "      <td>TRANSFER</td>\n",
       "      <td>6311409.28</td>\n",
       "      <td>C1529008245</td>\n",
       "      <td>6311409.28</td>\n",
       "      <td>0.0</td>\n",
       "      <td>C1881841831</td>\n",
       "      <td>0.00</td>\n",
       "      <td>0.00</td>\n",
       "      <td>1</td>\n",
       "      <td>0</td>\n",
       "    </tr>\n",
       "    <tr>\n",
       "      <th>6362617</th>\n",
       "      <td>743</td>\n",
       "      <td>CASH_OUT</td>\n",
       "      <td>6311409.28</td>\n",
       "      <td>C1162922333</td>\n",
       "      <td>6311409.28</td>\n",
       "      <td>0.0</td>\n",
       "      <td>C1365125890</td>\n",
       "      <td>68488.84</td>\n",
       "      <td>6379898.11</td>\n",
       "      <td>1</td>\n",
       "      <td>0</td>\n",
       "    </tr>\n",
       "    <tr>\n",
       "      <th>6362618</th>\n",
       "      <td>743</td>\n",
       "      <td>TRANSFER</td>\n",
       "      <td>850002.52</td>\n",
       "      <td>C1685995037</td>\n",
       "      <td>850002.52</td>\n",
       "      <td>0.0</td>\n",
       "      <td>C2080388513</td>\n",
       "      <td>0.00</td>\n",
       "      <td>0.00</td>\n",
       "      <td>1</td>\n",
       "      <td>0</td>\n",
       "    </tr>\n",
       "    <tr>\n",
       "      <th>6362619</th>\n",
       "      <td>743</td>\n",
       "      <td>CASH_OUT</td>\n",
       "      <td>850002.52</td>\n",
       "      <td>C1280323807</td>\n",
       "      <td>850002.52</td>\n",
       "      <td>0.0</td>\n",
       "      <td>C873221189</td>\n",
       "      <td>6510099.11</td>\n",
       "      <td>7360101.63</td>\n",
       "      <td>1</td>\n",
       "      <td>0</td>\n",
       "    </tr>\n",
       "  </tbody>\n",
       "</table>\n",
       "</div>"
      ],
      "text/plain": [
       "         step      type      amount     nameOrig  oldbalanceOrg  \\\n",
       "6362615   743  CASH_OUT   339682.13   C786484425      339682.13   \n",
       "6362616   743  TRANSFER  6311409.28  C1529008245     6311409.28   \n",
       "6362617   743  CASH_OUT  6311409.28  C1162922333     6311409.28   \n",
       "6362618   743  TRANSFER   850002.52  C1685995037      850002.52   \n",
       "6362619   743  CASH_OUT   850002.52  C1280323807      850002.52   \n",
       "\n",
       "         newbalanceOrig     nameDest  oldbalanceDest  newbalanceDest  isFraud  \\\n",
       "6362615             0.0   C776919290            0.00       339682.13        1   \n",
       "6362616             0.0  C1881841831            0.00            0.00        1   \n",
       "6362617             0.0  C1365125890        68488.84      6379898.11        1   \n",
       "6362618             0.0  C2080388513            0.00            0.00        1   \n",
       "6362619             0.0   C873221189      6510099.11      7360101.63        1   \n",
       "\n",
       "         isFlaggedFraud  \n",
       "6362615               0  \n",
       "6362616               0  \n",
       "6362617               0  \n",
       "6362618               0  \n",
       "6362619               0  "
      ]
     },
     "execution_count": 5,
     "metadata": {},
     "output_type": "execute_result"
    }
   ],
   "source": [
    "csv_dt.tail()"
   ]
  },
  {
   "cell_type": "markdown",
   "id": "8c66f96a",
   "metadata": {},
   "source": [
    "##### `Shape` will give us the dimension of our `csv_dt` file."
   ]
  },
  {
   "cell_type": "code",
   "execution_count": 6,
   "id": "b3029b9c",
   "metadata": {},
   "outputs": [
    {
     "data": {
      "text/plain": [
       "(6362620, 11)"
      ]
     },
     "execution_count": 6,
     "metadata": {},
     "output_type": "execute_result"
    }
   ],
   "source": [
    "csv_dt.shape"
   ]
  },
  {
   "cell_type": "markdown",
   "id": "bc71714a",
   "metadata": {},
   "source": [
    "##### `isnull() method` returns a DataFrame object where all the values are replaced with Boolean value it is True for NULL values, and otherwise False."
   ]
  },
  {
   "cell_type": "code",
   "execution_count": 7,
   "id": "ddd1e622",
   "metadata": {},
   "outputs": [
    {
     "data": {
      "text/plain": [
       "step              0\n",
       "type              0\n",
       "amount            0\n",
       "nameOrig          0\n",
       "oldbalanceOrg     0\n",
       "newbalanceOrig    0\n",
       "nameDest          0\n",
       "oldbalanceDest    0\n",
       "newbalanceDest    0\n",
       "isFraud           0\n",
       "isFlaggedFraud    0\n",
       "dtype: int64"
      ]
     },
     "execution_count": 7,
     "metadata": {},
     "output_type": "execute_result"
    }
   ],
   "source": [
    "csv_dt.isnull().sum()"
   ]
  },
  {
   "cell_type": "markdown",
   "id": "f90e5053",
   "metadata": {},
   "source": [
    "#### `Boxplot` is created to display the summary of the set of *amount* data along with X axis.\n",
    "#### `Countplot` method is used to show the counts of observations in each categorical bin using bars."
   ]
  },
  {
   "cell_type": "code",
   "execution_count": 8,
   "id": "e8394e08",
   "metadata": {},
   "outputs": [
    {
     "data": {
      "text/plain": [
       "<AxesSubplot:xlabel='amount'>"
      ]
     },
     "execution_count": 8,
     "metadata": {},
     "output_type": "execute_result"
    },
    {
     "data": {
      "image/png": "[encoded data removed]",
      "text/plain": [
       "<Figure size 432x288 with 1 Axes>"
      ]
     },
     "metadata": {
      "needs_background": "light"
     },
     "output_type": "display_data"
    }
   ],
   "source": [
    "sea.boxplot(x=csv_dt['amount'])\n",
    "#matplotlib.pyplot.boxplot(x=csv_dt['amount'])"
   ]
  },
  {
   "cell_type": "code",
   "execution_count": 9,
   "id": "90706c94",
   "metadata": {},
   "outputs": [
    {
     "name": "stderr",
     "output_type": "stream",
     "text": [
      "C:\\Users\\1stk3\\anaconda3\\lib\\site-packages\\seaborn\\_decorators.py:36: FutureWarning: Pass the following variable as a keyword arg: x. From version 0.12, the only valid positional argument will be `data`, and passing other arguments without an explicit keyword will result in an error or misinterpretation.\n",
      "  warnings.warn(\n"
     ]
    },
    {
     "data": {
      "text/plain": [
       "<AxesSubplot:xlabel='type', ylabel='count'>"
      ]
     },
     "execution_count": 9,
     "metadata": {},
     "output_type": "execute_result"
    },
    {
     "data": {
      "image/png": "[encoded data removed]",
      "text/plain": [
       "<Figure size 432x288 with 1 Axes>"
      ]
     },
     "metadata": {
      "needs_background": "light"
     },
     "output_type": "display_data"
    }
   ],
   "source": [
    "sea.countplot(csv_dt['type'])"
   ]
  },
  {
   "cell_type": "markdown",
   "id": "6010744e",
   "metadata": {},
   "source": [
    "#### `.nunique()` method returns the number of unique values for each column. Here we print unique values of nameOrig and nameDest."
   ]
  },
  {
   "cell_type": "code",
   "execution_count": 10,
   "id": "ac08e51c",
   "metadata": {},
   "outputs": [
    {
     "name": "stdout",
     "output_type": "stream",
     "text": [
      "Unique Values in nameOrig :  6353307\n",
      "Unique Values in nameDest :  2722362\n"
     ]
    }
   ],
   "source": [
    "print('Unique Values in nameOrig : ', csv_dt['nameOrig'].nunique())\n",
    "print('Unique Values in nameDest : ', csv_dt['nameDest'].nunique())"
   ]
  },
  {
   "cell_type": "markdown",
   "id": "80def88c",
   "metadata": {},
   "source": [
    "#### Here value of nameOrig is `6353307` and nameDest is `2722362`"
   ]
  },
  {
   "cell_type": "markdown",
   "id": "d8089b57",
   "metadata": {},
   "source": [
    "### Lets check Multi_Colinearity"
   ]
  },
  {
   "cell_type": "markdown",
   "id": "2f621bc2",
   "metadata": {},
   "source": [
    "#### To check multicollinearity we use `Variance Inflation Factor(VIF) technique`. `Statsmodels` is a Python module that provides classes and functions for the estimation of many different statistical models, as well as for conducting statistical tests, and statistical data exploration"
   ]
  },
  {
   "cell_type": "code",
   "execution_count": 11,
   "id": "43b1a4cf",
   "metadata": {},
   "outputs": [
    {
     "name": "stdout",
     "output_type": "stream",
     "text": [
      "          feature         Vif\n",
      "0            step    1.191094\n",
      "1          amount    4.078952\n",
      "2   oldbalanceOrg  544.053103\n",
      "3  newbalanceOrig  546.346008\n",
      "4  oldbalanceDest   72.895522\n",
      "5  newbalanceDest   84.584619\n",
      "6         isFraud    1.188386\n",
      "7  isFlaggedFraud    1.002546\n"
     ]
    }
   ],
   "source": [
    "from statsmodels.stats.outliers_influence import variance_inflation_factor as VIF\n",
    "\n",
    "csv_dt_without_text=pd.DataFrame({'step':csv_dt.step,\n",
    "                                'amount':csv_dt.amount,\n",
    "                               'oldbalanceOrg':csv_dt.oldbalanceOrg,\n",
    "                               'newbalanceOrig':csv_dt.newbalanceOrig,\n",
    "                               'oldbalanceDest':csv_dt.oldbalanceDest,\n",
    "                               'newbalanceDest':csv_dt.newbalanceDest,\n",
    "                               'isFraud':csv_dt.isFraud,\n",
    "                               'isFlaggedFraud':csv_dt.isFlaggedFraud})\n",
    "Vif_data = pd.DataFrame()\n",
    "Vif_data['feature'] = csv_dt_without_text.columns\n",
    "  \n",
    "Vif_data['Vif'] = [VIF(csv_dt_without_text.values, i)\n",
    "                          for i in range(len(csv_dt_without_text.columns))]\n",
    "  \n",
    "print(Vif_data)"
   ]
  },
  {
   "cell_type": "markdown",
   "id": "f9915d81",
   "metadata": {},
   "source": [
    "#### From Vif_data we see the `oldbalanceOrg` and `newbalanceOrig` has high `Variance Inflation Factor(VIF)` so we say that these two have multi-colinearity. "
   ]
  },
  {
   "cell_type": "code",
   "execution_count": 12,
   "id": "3268ce29",
   "metadata": {},
   "outputs": [],
   "source": [
    "from tqdm import tqdm"
   ]
  },
  {
   "cell_type": "markdown",
   "id": "b935308e",
   "metadata": {},
   "source": [
    "####  `tqdm` is a library in python which is used to create progress meters and progress bars."
   ]
  },
  {
   "cell_type": "markdown",
   "id": "98e41cbd",
   "metadata": {},
   "source": [
    "##### To solve this multi-colinearity we remove oldbalnceorg and newbalaceorig and `append` the difference of column in the data set."
   ]
  },
  {
   "cell_type": "code",
   "execution_count": 13,
   "id": "0a5c4540",
   "metadata": {},
   "outputs": [
    {
     "name": "stderr",
     "output_type": "stream",
     "text": [
      "100%|██████████| 6362620/6362620 [00:49<00:00, 129685.65it/s]\n"
     ]
    }
   ],
   "source": [
    "old_bal=csv_dt['oldbalanceOrg']\n",
    "new_bal=csv_dt['newbalanceOrig']\n",
    "bal_change=[]\n",
    "for i in tqdm(range(len(old_bal))):\n",
    "  diff=new_bal[i]-old_bal[i]\n",
    "  if diff>0:\n",
    "      bal_change.append(0)\n",
    "  else:\n",
    "      bal_change.append(1)\n",
    " #if balace deduct then 1 else 0  "
   ]
  },
  {
   "cell_type": "markdown",
   "id": "5fd8732b",
   "metadata": {},
   "source": [
    "#### But it is also noticable that `oldbalanceDest` and `newbalanceDest` has some degree of `multi-colinearity`."
   ]
  },
  {
   "cell_type": "markdown",
   "id": "52fb33e0",
   "metadata": {},
   "source": [
    "##### To solve this multi-colinearity we remove oldbalanceDest and newbalaceDest and `append` the difference of column in the data set."
   ]
  },
  {
   "cell_type": "code",
   "execution_count": 16,
   "id": "c5c22ceb",
   "metadata": {},
   "outputs": [
    {
     "name": "stderr",
     "output_type": "stream",
     "text": [
      "100%|██████████| 6362620/6362620 [00:49<00:00, 127352.22it/s]\n"
     ]
    }
   ],
   "source": [
    "dest_old=csv_dt['oldbalanceDest']\n",
    "dest_new=csv_dt['newbalanceDest']\n",
    "dest_bal_change=[]\n",
    "dest_bal=[]\n",
    "for i in tqdm(range(len(dest_old))):\n",
    "    diff=dest_new[i]-dest_old[i]\n",
    "    if diff>0:\n",
    "        dest_bal_change.append(0)\n",
    "        dest_bal.append(abs(diff))\n",
    "    else:\n",
    "        dest_bal_change.append(1)\n",
    "        dest_bal.append(abs(diff))"
   ]
  },
  {
   "cell_type": "code",
   "execution_count": 17,
   "id": "36a0cbeb",
   "metadata": {},
   "outputs": [],
   "source": [
    "csv_dt['source_bal_change']=bal_change\n",
    "csv_dt['destination']=dest_bal\n",
    "csv_dt['dest_bal_chnage']=dest_bal_change"
   ]
  },
  {
   "cell_type": "code",
   "execution_count": 18,
   "id": "990e197d",
   "metadata": {},
   "outputs": [],
   "source": [
    "csv_dt.drop(['oldbalanceOrg','newbalanceOrig','oldbalanceDest','newbalanceDest'],axis=1,inplace=True)"
   ]
  },
  {
   "cell_type": "code",
   "execution_count": 19,
   "id": "406bce7c",
   "metadata": {},
   "outputs": [
    {
     "data": {
      "text/html": [
       "<div>\n",
       "<style scoped>\n",
       "    .dataframe tbody tr th:only-of-type {\n",
       "        vertical-align: middle;\n",
       "    }\n",
       "\n",
       "    .dataframe tbody tr th {\n",
       "        vertical-align: top;\n",
       "    }\n",
       "\n",
       "    .dataframe thead th {\n",
       "        text-align: right;\n",
       "    }\n",
       "</style>\n",
       "<table border=\"1\" class=\"dataframe\">\n",
       "  <thead>\n",
       "    <tr style=\"text-align: right;\">\n",
       "      <th></th>\n",
       "      <th>step</th>\n",
       "      <th>type</th>\n",
       "      <th>amount</th>\n",
       "      <th>nameOrig</th>\n",
       "      <th>nameDest</th>\n",
       "      <th>isFraud</th>\n",
       "      <th>isFlaggedFraud</th>\n",
       "      <th>source_bal_change</th>\n",
       "      <th>destination</th>\n",
       "      <th>dest_bal_chnage</th>\n",
       "    </tr>\n",
       "  </thead>\n",
       "  <tbody>\n",
       "    <tr>\n",
       "      <th>0</th>\n",
       "      <td>1</td>\n",
       "      <td>PAYMENT</td>\n",
       "      <td>9839.64</td>\n",
       "      <td>C1231006815</td>\n",
       "      <td>M1979787155</td>\n",
       "      <td>0</td>\n",
       "      <td>0</td>\n",
       "      <td>1</td>\n",
       "      <td>0.0</td>\n",
       "      <td>1</td>\n",
       "    </tr>\n",
       "    <tr>\n",
       "      <th>1</th>\n",
       "      <td>1</td>\n",
       "      <td>PAYMENT</td>\n",
       "      <td>1864.28</td>\n",
       "      <td>C1666544295</td>\n",
       "      <td>M2044282225</td>\n",
       "      <td>0</td>\n",
       "      <td>0</td>\n",
       "      <td>1</td>\n",
       "      <td>0.0</td>\n",
       "      <td>1</td>\n",
       "    </tr>\n",
       "  </tbody>\n",
       "</table>\n",
       "</div>"
      ],
      "text/plain": [
       "   step     type   amount     nameOrig     nameDest  isFraud  isFlaggedFraud  \\\n",
       "0     1  PAYMENT  9839.64  C1231006815  M1979787155        0               0   \n",
       "1     1  PAYMENT  1864.28  C1666544295  M2044282225        0               0   \n",
       "\n",
       "   source_bal_change  destination  dest_bal_chnage  \n",
       "0                  1          0.0                1  \n",
       "1                  1          0.0                1  "
      ]
     },
     "execution_count": 19,
     "metadata": {},
     "output_type": "execute_result"
    }
   ],
   "source": [
    "csv_dt.head(2)"
   ]
  },
  {
   "cell_type": "markdown",
   "id": "d379eaa2",
   "metadata": {},
   "source": [
    "#### Lets check colinearity on Data after Featurization."
   ]
  },
  {
   "cell_type": "code",
   "execution_count": 20,
   "id": "a81197fb",
   "metadata": {},
   "outputs": [],
   "source": [
    "result=csv_dt['isFraud']\n",
    "csv_dt.drop('isFraud',axis=1,inplace=True)"
   ]
  },
  {
   "cell_type": "code",
   "execution_count": 21,
   "id": "b68bc1e5",
   "metadata": {},
   "outputs": [
    {
     "name": "stdout",
     "output_type": "stream",
     "text": [
      "8213\n",
      "6354407\n"
     ]
    }
   ],
   "source": [
    "True_fraud=np.sum(result==1)\n",
    "False_fraud=np.sum(result==0)\n",
    "print(True_fraud)\n",
    "print(False_fraud)"
   ]
  },
  {
   "cell_type": "markdown",
   "id": "0bca2bd6",
   "metadata": {},
   "source": [
    "#### We can Clearly observe that: \n",
    "1.Here the data is imbalanced.\n",
    "\n",
    "2.We'll apply downsampling on the data basically here the size of True_fraud and False_fraud will be same.\n",
    "\n",
    "3. But first lets work imbalance data."
   ]
  },
  {
   "cell_type": "markdown",
   "id": "9619ced0",
   "metadata": {},
   "source": [
    "#### Working With Imbalanced Data."
   ]
  },
  {
   "cell_type": "code",
   "execution_count": 23,
   "id": "ae3dcd4c",
   "metadata": {},
   "outputs": [],
   "source": [
    "from sklearn.model_selection import train_test_split\n",
    "x_train,x_test,y_train,y_test=train_test_split(csv_dt,result,test_size=0.20,random_state=42)"
   ]
  },
  {
   "cell_type": "markdown",
   "id": "8cb5d01c",
   "metadata": {},
   "source": [
    "#### `The test_size=0.2` inside the function indicates the percentage of the data that should be held over for testing. We use`random_state to 42` to ensure that we get same result in this case same test set every time we run our code again, other wise different outcomes will occur in different test runs."
   ]
  },
  {
   "cell_type": "markdown",
   "id": "7af42a95",
   "metadata": {},
   "source": [
    "#### `train_test_split` is a function of sklearn.model_selection for dividing data into two subset here training data and test data without manual coding."
   ]
  },
  {
   "cell_type": "code",
   "execution_count": 24,
   "id": "bf7554c4",
   "metadata": {},
   "outputs": [
    {
     "name": "stdout",
     "output_type": "stream",
     "text": [
      "(5090096, 9)\n",
      "(1272524, 9)\n",
      "(5090096,)\n",
      "(1272524,)\n"
     ]
    }
   ],
   "source": [
    "print(x_train.shape)\n",
    "print(x_test.shape)\n",
    "print(y_train.shape)\n",
    "print(y_test.shape)"
   ]
  },
  {
   "cell_type": "markdown",
   "id": "c8fd2c32",
   "metadata": {},
   "source": [
    "#### Categorical Data"
   ]
  },
  {
   "cell_type": "code",
   "execution_count": 25,
   "id": "49612350",
   "metadata": {},
   "outputs": [],
   "source": [
    "from sklearn import preprocessing   #Here le is LabelEncoder\n",
    "#(preprocessing transforms applied to our data before feeding it to the algorithm.)"
   ]
  },
  {
   "cell_type": "markdown",
   "id": "5143d60b",
   "metadata": {},
   "source": [
    "#### In next three block below we will transform our data and normize the labels."
   ]
  },
  {
   "cell_type": "code",
   "execution_count": 26,
   "id": "ac2573a8",
   "metadata": {},
   "outputs": [],
   "source": [
    "le = preprocessing.LabelEncoder()\n",
    "le.fit(csv_dt['type'])\n",
    "train_type=le.transform(x_train['type'])\n",
    "test_type=le.transform(x_test['type'])"
   ]
  },
  {
   "cell_type": "code",
   "execution_count": 27,
   "id": "16275d59",
   "metadata": {},
   "outputs": [],
   "source": [
    "le2=preprocessing.LabelEncoder()\n",
    "le2.fit(csv_dt['nameOrig'])\n",
    "train_nameOrig=le2.transform(x_train['nameOrig'])\n",
    "test_nameOrig=le2.transform(x_test['nameOrig'])"
   ]
  },
  {
   "cell_type": "code",
   "execution_count": 28,
   "id": "d25e45b8",
   "metadata": {},
   "outputs": [],
   "source": [
    "le3=preprocessing.LabelEncoder()\n",
    "le3.fit(csv_dt['nameDest'])\n",
    "train_nameDest=le3.transform(x_train['nameDest'])\n",
    "test_nameDest=le3.transform(x_test['nameDest'])"
   ]
  },
  {
   "cell_type": "code",
   "execution_count": 29,
   "id": "16c10630",
   "metadata": {},
   "outputs": [],
   "source": [
    "x_train.drop(['type','nameOrig','nameDest'],axis=1,inplace=True)"
   ]
  },
  {
   "cell_type": "code",
   "execution_count": 30,
   "id": "e5c4d4df",
   "metadata": {},
   "outputs": [],
   "source": [
    "x_train['type']=train_type\n",
    "x_train['nameOrig']=train_nameOrig\n",
    "x_train['nameDest']=train_nameDest"
   ]
  },
  {
   "cell_type": "code",
   "execution_count": 31,
   "id": "fc1023f5",
   "metadata": {},
   "outputs": [
    {
     "data": {
      "text/html": [
       "<div>\n",
       "<style scoped>\n",
       "    .dataframe tbody tr th:only-of-type {\n",
       "        vertical-align: middle;\n",
       "    }\n",
       "\n",
       "    .dataframe tbody tr th {\n",
       "        vertical-align: top;\n",
       "    }\n",
       "\n",
       "    .dataframe thead th {\n",
       "        text-align: right;\n",
       "    }\n",
       "</style>\n",
       "<table border=\"1\" class=\"dataframe\">\n",
       "  <thead>\n",
       "    <tr style=\"text-align: right;\">\n",
       "      <th></th>\n",
       "      <th>step</th>\n",
       "      <th>amount</th>\n",
       "      <th>isFlaggedFraud</th>\n",
       "      <th>source_bal_change</th>\n",
       "      <th>destination</th>\n",
       "      <th>dest_bal_chnage</th>\n",
       "      <th>type</th>\n",
       "      <th>nameOrig</th>\n",
       "      <th>nameDest</th>\n",
       "    </tr>\n",
       "  </thead>\n",
       "  <tbody>\n",
       "    <tr>\n",
       "      <th>6271196</th>\n",
       "      <td>619</td>\n",
       "      <td>386385.08</td>\n",
       "      <td>0</td>\n",
       "      <td>0</td>\n",
       "      <td>386385.08</td>\n",
       "      <td>1</td>\n",
       "      <td>0</td>\n",
       "      <td>4449199</td>\n",
       "      <td>289167</td>\n",
       "    </tr>\n",
       "    <tr>\n",
       "      <th>1888243</th>\n",
       "      <td>164</td>\n",
       "      <td>212458.78</td>\n",
       "      <td>0</td>\n",
       "      <td>0</td>\n",
       "      <td>212458.78</td>\n",
       "      <td>1</td>\n",
       "      <td>0</td>\n",
       "      <td>5813773</td>\n",
       "      <td>204382</td>\n",
       "    </tr>\n",
       "  </tbody>\n",
       "</table>\n",
       "</div>"
      ],
      "text/plain": [
       "         step     amount  isFlaggedFraud  source_bal_change  destination  \\\n",
       "6271196   619  386385.08               0                  0    386385.08   \n",
       "1888243   164  212458.78               0                  0    212458.78   \n",
       "\n",
       "         dest_bal_chnage  type  nameOrig  nameDest  \n",
       "6271196                1     0   4449199    289167  \n",
       "1888243                1     0   5813773    204382  "
      ]
     },
     "execution_count": 31,
     "metadata": {},
     "output_type": "execute_result"
    }
   ],
   "source": [
    "x_train.head(2)"
   ]
  },
  {
   "cell_type": "code",
   "execution_count": 32,
   "id": "1966a2ff",
   "metadata": {},
   "outputs": [],
   "source": [
    "x_test.drop(['type','nameOrig','nameDest'],axis=1,inplace=True)"
   ]
  },
  {
   "cell_type": "code",
   "execution_count": 33,
   "id": "d7e1bed4",
   "metadata": {},
   "outputs": [],
   "source": [
    "x_test['type']=test_type\n",
    "x_test['nameOrig']=test_nameOrig\n",
    "x_test['nameDest']=test_nameDest"
   ]
  },
  {
   "cell_type": "code",
   "execution_count": 34,
   "id": "1d5e06f4",
   "metadata": {},
   "outputs": [
    {
     "data": {
      "text/html": [
       "<div>\n",
       "<style scoped>\n",
       "    .dataframe tbody tr th:only-of-type {\n",
       "        vertical-align: middle;\n",
       "    }\n",
       "\n",
       "    .dataframe tbody tr th {\n",
       "        vertical-align: top;\n",
       "    }\n",
       "\n",
       "    .dataframe thead th {\n",
       "        text-align: right;\n",
       "    }\n",
       "</style>\n",
       "<table border=\"1\" class=\"dataframe\">\n",
       "  <thead>\n",
       "    <tr style=\"text-align: right;\">\n",
       "      <th></th>\n",
       "      <th>step</th>\n",
       "      <th>amount</th>\n",
       "      <th>isFlaggedFraud</th>\n",
       "      <th>source_bal_change</th>\n",
       "      <th>destination</th>\n",
       "      <th>dest_bal_chnage</th>\n",
       "      <th>type</th>\n",
       "      <th>nameOrig</th>\n",
       "      <th>nameDest</th>\n",
       "    </tr>\n",
       "  </thead>\n",
       "  <tbody>\n",
       "    <tr>\n",
       "      <th>3737323</th>\n",
       "      <td>278</td>\n",
       "      <td>330218.42</td>\n",
       "      <td>0</td>\n",
       "      <td>0</td>\n",
       "      <td>330218.42</td>\n",
       "      <td>1</td>\n",
       "      <td>0</td>\n",
       "      <td>5144186</td>\n",
       "      <td>523341</td>\n",
       "    </tr>\n",
       "    <tr>\n",
       "      <th>264914</th>\n",
       "      <td>15</td>\n",
       "      <td>11647.08</td>\n",
       "      <td>0</td>\n",
       "      <td>1</td>\n",
       "      <td>0.00</td>\n",
       "      <td>1</td>\n",
       "      <td>3</td>\n",
       "      <td>868156</td>\n",
       "      <td>1849210</td>\n",
       "    </tr>\n",
       "  </tbody>\n",
       "</table>\n",
       "</div>"
      ],
      "text/plain": [
       "         step     amount  isFlaggedFraud  source_bal_change  destination  \\\n",
       "3737323   278  330218.42               0                  0    330218.42   \n",
       "264914     15   11647.08               0                  1         0.00   \n",
       "\n",
       "         dest_bal_chnage  type  nameOrig  nameDest  \n",
       "3737323                1     0   5144186    523341  \n",
       "264914                 1     3    868156   1849210  "
      ]
     },
     "execution_count": 34,
     "metadata": {},
     "output_type": "execute_result"
    }
   ],
   "source": [
    "x_test.head(2)"
   ]
  },
  {
   "cell_type": "markdown",
   "id": "6ed0c57c",
   "metadata": {},
   "source": [
    "#### We are going to use Xgboost to train the model"
   ]
  },
  {
   "cell_type": "code",
   "execution_count": null,
   "id": "4c1f3816",
   "metadata": {},
   "outputs": [],
   "source": []
  },
  {
   "cell_type": "markdown",
   "id": "33d58a3b",
   "metadata": {},
   "source": [
    "#### Beacuse:\n",
    "\n",
    "1.XGBoost stands for Extreme Gradient Boosting. It uses more accurate approximations to find the best tree model.\n",
    "\n",
    "2.Here we see that amount Data has very much outliers and xgboost is not influenced by outliers"
   ]
  },
  {
   "cell_type": "markdown",
   "id": "90b2431d",
   "metadata": {},
   "source": [
    "### HyperParameter Tuning on xgboost"
   ]
  },
  {
   "cell_type": "code",
   "execution_count": 35,
   "id": "f293c331",
   "metadata": {},
   "outputs": [],
   "source": [
    "import xgboost as xgb\n",
    "xgb_model  = xgb.XGBClassifier()"
   ]
  },
  {
   "cell_type": "markdown",
   "id": "aeadd4dc",
   "metadata": {},
   "source": [
    "#### GridSearchCV is a technique to search through the best parameter values from the given set of the grid of parameters. It is basically a cross-validation method. But GridSearchCV will take some time (30 to 40 minutes) so do not worry our code isn't broken."
   ]
  },
  {
   "cell_type": "code",
   "execution_count": 36,
   "id": "5ff38dd3",
   "metadata": {},
   "outputs": [
    {
     "data": {
      "text/html": [
       "<style>#sk-container-id-1 {color: black;background-color: white;}#sk-container-id-1 pre{padding: 0;}#sk-container-id-1 div.sk-toggleable {background-color: white;}#sk-container-id-1 label.sk-toggleable__label {cursor: pointer;display: block;width: 100%;margin-bottom: 0;padding: 0.3em;box-sizing: border-box;text-align: center;}#sk-container-id-1 label.sk-toggleable__label-arrow:before {content: \"▸\";float: left;margin-right: 0.25em;color: #696969;}#sk-container-id-1 label.sk-toggleable__label-arrow:hover:before {color: black;}#sk-container-id-1 div.sk-estimator:hover label.sk-toggleable__label-arrow:before {color: black;}#sk-container-id-1 div.sk-toggleable__content {max-height: 0;max-width: 0;overflow: hidden;text-align: left;background-color: #f0f8ff;}#sk-container-id-1 div.sk-toggleable__content pre {margin: 0.2em;color: black;border-radius: 0.25em;background-color: #f0f8ff;}#sk-container-id-1 input.sk-toggleable__control:checked~div.sk-toggleable__content {max-height: 200px;max-width: 100%;overflow: auto;}#sk-container-id-1 input.sk-toggleable__control:checked~label.sk-toggleable__label-arrow:before {content: \"▾\";}#sk-container-id-1 div.sk-estimator input.sk-toggleable__control:checked~label.sk-toggleable__label {background-color: #d4ebff;}#sk-container-id-1 div.sk-label input.sk-toggleable__control:checked~label.sk-toggleable__label {background-color: #d4ebff;}#sk-container-id-1 input.sk-hidden--visually {border: 0;clip: rect(1px 1px 1px 1px);clip: rect(1px, 1px, 1px, 1px);height: 1px;margin: -1px;overflow: hidden;padding: 0;position: absolute;width: 1px;}#sk-container-id-1 div.sk-estimator {font-family: monospace;background-color: #f0f8ff;border: 1px dotted black;border-radius: 0.25em;box-sizing: border-box;margin-bottom: 0.5em;}#sk-container-id-1 div.sk-estimator:hover {background-color: #d4ebff;}#sk-container-id-1 div.sk-parallel-item::after {content: \"\";width: 100%;border-bottom: 1px solid gray;flex-grow: 1;}#sk-container-id-1 div.sk-label:hover label.sk-toggleable__label {background-color: #d4ebff;}#sk-container-id-1 div.sk-serial::before {content: \"\";position: absolute;border-left: 1px solid gray;box-sizing: border-box;top: 0;bottom: 0;left: 50%;z-index: 0;}#sk-container-id-1 div.sk-serial {display: flex;flex-direction: column;align-items: center;background-color: white;padding-right: 0.2em;padding-left: 0.2em;position: relative;}#sk-container-id-1 div.sk-item {position: relative;z-index: 1;}#sk-container-id-1 div.sk-parallel {display: flex;align-items: stretch;justify-content: center;background-color: white;position: relative;}#sk-container-id-1 div.sk-item::before, #sk-container-id-1 div.sk-parallel-item::before {content: \"\";position: absolute;border-left: 1px solid gray;box-sizing: border-box;top: 0;bottom: 0;left: 50%;z-index: -1;}#sk-container-id-1 div.sk-parallel-item {display: flex;flex-direction: column;z-index: 1;position: relative;background-color: white;}#sk-container-id-1 div.sk-parallel-item:first-child::after {align-self: flex-end;width: 50%;}#sk-container-id-1 div.sk-parallel-item:last-child::after {align-self: flex-start;width: 50%;}#sk-container-id-1 div.sk-parallel-item:only-child::after {width: 0;}#sk-container-id-1 div.sk-dashed-wrapped {border: 1px dashed gray;margin: 0 0.4em 0.5em 0.4em;box-sizing: border-box;padding-bottom: 0.4em;background-color: white;}#sk-container-id-1 div.sk-label label {font-family: monospace;font-weight: bold;display: inline-block;line-height: 1.2em;}#sk-container-id-1 div.sk-label-container {text-align: center;}#sk-container-id-1 div.sk-container {/* jupyter's `normalize.less` sets `[hidden] { display: none; }` but bootstrap.min.css set `[hidden] { display: none !important; }` so we also need the `!important` here to be able to override the default hidden behavior on the sphinx rendered scikit-learn.org. See: https://github.com/scikit-learn/scikit-learn/issues/21755 */display: inline-block !important;position: relative;}#sk-container-id-1 div.sk-text-repr-fallback {display: none;}</style><div id=\"sk-container-id-1\" class=\"sk-top-container\"><div class=\"sk-text-repr-fallback\"><pre>GridSearchCV(cv=3,\n",
       "             estimator=XGBClassifier(base_score=None, booster=None,\n",
       "                                     callbacks=None, colsample_bylevel=None,\n",
       "                                     colsample_bynode=None,\n",
       "                                     colsample_bytree=None,\n",
       "                                     early_stopping_rounds=None,\n",
       "                                     enable_categorical=False, eval_metric=None,\n",
       "                                     gamma=None, gpu_id=None, grow_policy=None,\n",
       "                                     importance_type=None,\n",
       "                                     interaction_constraints=None,\n",
       "                                     learning_rate=None, max_bin=None,\n",
       "                                     max_cat_to_onehot=None,\n",
       "                                     max_delta_step=None, max_depth=None,\n",
       "                                     max_leaves=None, min_child_weight=None,\n",
       "                                     missing=nan, monotone_constraints=None,\n",
       "                                     n_estimators=100, n_jobs=None,\n",
       "                                     num_parallel_tree=None, predictor=None,\n",
       "                                     random_state=None, reg_alpha=None,\n",
       "                                     reg_lambda=None, ...),\n",
       "             n_jobs=-1, param_grid={&#x27;max_depth&#x27;: [1, 2, 3, 4]},\n",
       "             return_train_score=True, scoring=&#x27;roc_auc&#x27;)</pre><b>In a Jupyter environment, please rerun this cell to show the HTML representation or trust the notebook. <br />On GitHub, the HTML representation is unable to render, please try loading this page with nbviewer.org.</b></div><div class=\"sk-container\" hidden><div class=\"sk-item sk-dashed-wrapped\"><div class=\"sk-label-container\"><div class=\"sk-label sk-toggleable\"><input class=\"sk-toggleable__control sk-hidden--visually\" id=\"sk-estimator-id-1\" type=\"checkbox\" ><label for=\"sk-estimator-id-1\" class=\"sk-toggleable__label sk-toggleable__label-arrow\">GridSearchCV</label><div class=\"sk-toggleable__content\"><pre>GridSearchCV(cv=3,\n",
       "             estimator=XGBClassifier(base_score=None, booster=None,\n",
       "                                     callbacks=None, colsample_bylevel=None,\n",
       "                                     colsample_bynode=None,\n",
       "                                     colsample_bytree=None,\n",
       "                                     early_stopping_rounds=None,\n",
       "                                     enable_categorical=False, eval_metric=None,\n",
       "                                     gamma=None, gpu_id=None, grow_policy=None,\n",
       "                                     importance_type=None,\n",
       "                                     interaction_constraints=None,\n",
       "                                     learning_rate=None, max_bin=None,\n",
       "                                     max_cat_to_onehot=None,\n",
       "                                     max_delta_step=None, max_depth=None,\n",
       "                                     max_leaves=None, min_child_weight=None,\n",
       "                                     missing=nan, monotone_constraints=None,\n",
       "                                     n_estimators=100, n_jobs=None,\n",
       "                                     num_parallel_tree=None, predictor=None,\n",
       "                                     random_state=None, reg_alpha=None,\n",
       "                                     reg_lambda=None, ...),\n",
       "             n_jobs=-1, param_grid={&#x27;max_depth&#x27;: [1, 2, 3, 4]},\n",
       "             return_train_score=True, scoring=&#x27;roc_auc&#x27;)</pre></div></div></div><div class=\"sk-parallel\"><div class=\"sk-parallel-item\"><div class=\"sk-item\"><div class=\"sk-label-container\"><div class=\"sk-label sk-toggleable\"><input class=\"sk-toggleable__control sk-hidden--visually\" id=\"sk-estimator-id-2\" type=\"checkbox\" ><label for=\"sk-estimator-id-2\" class=\"sk-toggleable__label sk-toggleable__label-arrow\">estimator: XGBClassifier</label><div class=\"sk-toggleable__content\"><pre>XGBClassifier(base_score=None, booster=None, callbacks=None,\n",
       "              colsample_bylevel=None, colsample_bynode=None,\n",
       "              colsample_bytree=None, early_stopping_rounds=None,\n",
       "              enable_categorical=False, eval_metric=None, gamma=None,\n",
       "              gpu_id=None, grow_policy=None, importance_type=None,\n",
       "              interaction_constraints=None, learning_rate=None, max_bin=None,\n",
       "              max_cat_to_onehot=None, max_delta_step=None, max_depth=None,\n",
       "              max_leaves=None, min_child_weight=None, missing=nan,\n",
       "              monotone_constraints=None, n_estimators=100, n_jobs=None,\n",
       "              num_parallel_tree=None, predictor=None, random_state=None,\n",
       "              reg_alpha=None, reg_lambda=None, ...)</pre></div></div></div><div class=\"sk-serial\"><div class=\"sk-item\"><div class=\"sk-estimator sk-toggleable\"><input class=\"sk-toggleable__control sk-hidden--visually\" id=\"sk-estimator-id-3\" type=\"checkbox\" ><label for=\"sk-estimator-id-3\" class=\"sk-toggleable__label sk-toggleable__label-arrow\">XGBClassifier</label><div class=\"sk-toggleable__content\"><pre>XGBClassifier(base_score=None, booster=None, callbacks=None,\n",
       "              colsample_bylevel=None, colsample_bynode=None,\n",
       "              colsample_bytree=None, early_stopping_rounds=None,\n",
       "              enable_categorical=False, eval_metric=None, gamma=None,\n",
       "              gpu_id=None, grow_policy=None, importance_type=None,\n",
       "              interaction_constraints=None, learning_rate=None, max_bin=None,\n",
       "              max_cat_to_onehot=None, max_delta_step=None, max_depth=None,\n",
       "              max_leaves=None, min_child_weight=None, missing=nan,\n",
       "              monotone_constraints=None, n_estimators=100, n_jobs=None,\n",
       "              num_parallel_tree=None, predictor=None, random_state=None,\n",
       "              reg_alpha=None, reg_lambda=None, ...)</pre></div></div></div></div></div></div></div></div></div></div>"
      ],
      "text/plain": [
       "GridSearchCV(cv=3,\n",
       "             estimator=XGBClassifier(base_score=None, booster=None,\n",
       "                                     callbacks=None, colsample_bylevel=None,\n",
       "                                     colsample_bynode=None,\n",
       "                                     colsample_bytree=None,\n",
       "                                     early_stopping_rounds=None,\n",
       "                                     enable_categorical=False, eval_metric=None,\n",
       "                                     gamma=None, gpu_id=None, grow_policy=None,\n",
       "                                     importance_type=None,\n",
       "                                     interaction_constraints=None,\n",
       "                                     learning_rate=None, max_bin=None,\n",
       "                                     max_cat_to_onehot=None,\n",
       "                                     max_delta_step=None, max_depth=None,\n",
       "                                     max_leaves=None, min_child_weight=None,\n",
       "                                     missing=nan, monotone_constraints=None,\n",
       "                                     n_estimators=100, n_jobs=None,\n",
       "                                     num_parallel_tree=None, predictor=None,\n",
       "                                     random_state=None, reg_alpha=None,\n",
       "                                     reg_lambda=None, ...),\n",
       "             n_jobs=-1, param_grid={'max_depth': [1, 2, 3, 4]},\n",
       "             return_train_score=True, scoring='roc_auc')"
      ]
     },
     "execution_count": 36,
     "metadata": {},
     "output_type": "execute_result"
    }
   ],
   "source": [
    "from sklearn.model_selection import GridSearchCV\n",
    "parameters = {'max_depth':[1,2,3,4] }\n",
    "clf = GridSearchCV(xgb.XGBClassifier(), parameters, cv=3, scoring='roc_auc',return_train_score=True,n_jobs=-1)\n",
    "clf.fit(x_train,y_train)"
   ]
  },
  {
   "cell_type": "code",
   "execution_count": 81,
   "id": "0051c55a",
   "metadata": {},
   "outputs": [
    {
     "name": "stdout",
     "output_type": "stream",
     "text": [
      "Best Parameter {'max_depth': 4}\n"
     ]
    },
    {
     "data": {
      "image/png": "[encoded data removed]",
      "text/plain": [
       "<Figure size 432x288 with 1 Axes>"
      ]
     },
     "metadata": {
      "needs_background": "light"
     },
     "output_type": "display_data"
    }
   ],
   "source": [
    "import matplotlib.pyplot as plt\n",
    "max_depth=[1,2,3,4]\n",
    "df=pd.DataFrame.from_dict(clf.cv_results_)\n",
    "train_acuracy=df['mean_train_score']\n",
    "test_acuracy=df['mean_test_score']\n",
    "plt.grid()\n",
    "plt.plot(max_depth,train_acuracy,label='Train-Acuracy')\n",
    "plt.plot(max_depth,test_acuracy,label='Test-Acuracy')\n",
    "plt.legend()\n",
    "plt.title('Depth vs Acuracy')\n",
    "print('Best Parameter',clf.best_params_)"
   ]
  },
  {
   "cell_type": "code",
   "execution_count": 82,
   "id": "946f1457",
   "metadata": {},
   "outputs": [
    {
     "data": {
      "image/png": "[encoded data removed]",
      "text/plain": [
       "<Figure size 576x432 with 1 Axes>"
      ]
     },
     "metadata": {
      "needs_background": "light"
     },
     "output_type": "display_data"
    }
   ],
   "source": [
    "from sklearn.metrics import roc_curve, auc\n",
    "\n",
    "model_set=xgb.XGBClassifier(max_depth=4)\n",
    "model_set.fit(x_train,y_train)\n",
    "y_train_probs = model_set.predict_proba(x_train)[:,1] # converting train and test output into probability\n",
    "y_test_probs= model_set.predict_proba(x_test)[:,1]\n",
    "train_fpr, train_tpr, tr_thresholds = roc_curve(y_train, y_train_probs) # storing values of fpr and tpr\n",
    "test_fpr, test_tpr, te_thresholds = roc_curve(y_test, y_test_probs)\n",
    "plt.figure(figsize=(8,6))\n",
    "plt.plot(train_fpr, train_tpr, label='Train AUC ='+str(auc(train_fpr, train_tpr)))\n",
    "plt.plot(test_fpr, test_tpr, label='Test AUC ='+str(auc(test_fpr, test_tpr)))\n",
    "plt.legend()\n",
    "plt.xlabel('False Positive Rate(FPR)')\n",
    "plt.ylabel('True Positive Rate(TPR)')\n",
    "plt.title('AUCARACY')\n",
    "plt.grid(color='black',lw=0.5)"
   ]
  },
  {
   "cell_type": "code",
   "execution_count": 83,
   "id": "5b7595d8",
   "metadata": {},
   "outputs": [],
   "source": [
    "def find_best_threshold(threshould, fpr, tpr):\n",
    " t = threshould[np.argmax(tpr*(1-fpr))]\n",
    " print('the maximum value of tpr*(1-fpr)', max(tpr*(1-fpr)), 'for threshold', np.round(t,3))\n",
    " return t\n",
    "def predict_with_best_t(proba, threshould):\n",
    "  prediction=[]\n",
    "  for i in proba:\n",
    "    if i>=threshould:\n",
    "      prediction.append(1)\n",
    "    else:\n",
    "      prediction.append(0)\n",
    "  return prediction"
   ]
  },
  {
   "cell_type": "code",
   "execution_count": 84,
   "id": "6596953c",
   "metadata": {},
   "outputs": [
    {
     "name": "stdout",
     "output_type": "stream",
     "text": [
      "the maximum value of tpr*(1-fpr) 0.9157407747189937 for threshold 0.412\n",
      "Train confusion matrix\n",
      "[[6357  207]\n",
      " [ 358 6218]]\n"
     ]
    }
   ],
   "source": [
    "from sklearn.metrics import confusion_matrix\n",
    "best_t = find_best_threshold(tr_thresholds, train_fpr, train_tpr)\n",
    "print('Train confusion matrix')\n",
    "l=predict_with_best_t(y_train_probs, best_t)\n",
    "k=confusion_matrix(y_train,l)\n",
    "print(k)"
   ]
  },
  {
   "cell_type": "code",
   "execution_count": 85,
   "id": "b1bd114f",
   "metadata": {},
   "outputs": [
    {
     "data": {
      "text/plain": [
       "<AxesSubplot:title={'center':'Train data '}>"
      ]
     },
     "execution_count": 85,
     "metadata": {},
     "output_type": "execute_result"
    },
    {
     "data": {
      "image/png": "[encoded data removed]",
      "text/plain": [
       "<Figure size 432x288 with 2 Axes>"
      ]
     },
     "metadata": {
      "needs_background": "light"
     },
     "output_type": "display_data"
    }
   ],
   "source": [
    "import matplotlib.pyplot as plt \n",
    "#import seaborn as sns\n",
    "plt.title('Train data ')\n",
    "sea.heatmap(k, annot=True,fmt=\"d\",cmap='Greens')"
   ]
  },
  {
   "cell_type": "code",
   "execution_count": 86,
   "id": "d05773e5",
   "metadata": {},
   "outputs": [
    {
     "name": "stdout",
     "output_type": "stream",
     "text": [
      "the maximum value of tpr*(1-fpr) 0.8882375538681929 for threshold 0.479\n",
      "Test confusion matrix\n",
      "[[1590   59]\n",
      " [ 129 1508]]\n"
     ]
    }
   ],
   "source": [
    "best_t = find_best_threshold(te_thresholds, test_fpr, test_tpr)\n",
    "print('Test confusion matrix')\n",
    "l=predict_with_best_t(y_test_probs, best_t)\n",
    "k=confusion_matrix(y_test,l)\n",
    "print(k)"
   ]
  },
  {
   "cell_type": "code",
   "execution_count": 87,
   "id": "659142b6",
   "metadata": {},
   "outputs": [
    {
     "data": {
      "text/plain": [
       "<AxesSubplot:title={'center':'Test data '}>"
      ]
     },
     "execution_count": 87,
     "metadata": {},
     "output_type": "execute_result"
    },
    {
     "data": {
      "image/png": "[encoded data removed]",
      "text/plain": [
       "<Figure size 432x288 with 2 Axes>"
      ]
     },
     "metadata": {
      "needs_background": "light"
     },
     "output_type": "display_data"
    }
   ],
   "source": [
    "import matplotlib.pyplot as plt \n",
    "import seaborn as sns\n",
    "plt.title('Test data ')\n",
    "sea.heatmap(k, annot=True,fmt='d',cmap='Greens')"
   ]
  },
  {
   "cell_type": "markdown",
   "id": "47b16430",
   "metadata": {},
   "source": [
    "### Observations\n",
    "1.Here the accuracy is very high for both train data and test data\n",
    "\n",
    "2.But if we check the confusion matrix we can observe that number of surely classified \"isfraud\" is very less\n",
    "\n",
    "3.As we it is an imbalaced data we can't totaly depend on this output for this `we have to make the daat balance then we have check the output`"
   ]
  },
  {
   "cell_type": "code",
   "execution_count": 64,
   "id": "7b594d9b",
   "metadata": {
    "scrolled": true
   },
   "outputs": [
    {
     "name": "stdout",
     "output_type": "stream",
     "text": [
      "Requirement already satisfied: sklearn in c:\\users\\1stk3\\anaconda3\\lib\\site-packages (0.0)\n",
      "Requirement already satisfied: scikit-learn in c:\\users\\1stk3\\anaconda3\\lib\\site-packages (from sklearn) (1.1.1)\n",
      "Requirement already satisfied: scipy>=1.3.2 in c:\\users\\1stk3\\anaconda3\\lib\\site-packages (from scikit-learn->sklearn) (1.7.3)\n",
      "Requirement already satisfied: joblib>=1.0.0 in c:\\users\\1stk3\\anaconda3\\lib\\site-packages (from scikit-learn->sklearn) (1.1.0)\n",
      "Requirement already satisfied: numpy>=1.17.3 in c:\\users\\1stk3\\anaconda3\\lib\\site-packages (from scikit-learn->sklearn) (1.21.5)\n",
      "Requirement already satisfied: threadpoolctl>=2.0.0 in c:\\users\\1stk3\\anaconda3\\lib\\site-packages (from scikit-learn->sklearn) (2.2.0)\n"
     ]
    }
   ],
   "source": [
    "#!pip3 install imblearn\n",
    "!pip3 install sklearn"
   ]
  },
  {
   "cell_type": "markdown",
   "id": "a9bc18af",
   "metadata": {},
   "source": [
    "### In the block avobe there is `!pip3 install sklearn` I got confused as `imblearn` wasn't working. The `solution` has been given in the  top second block of the project however I kept this line because I want the viewers to see where the mistake can be made and they can learn from my mistakes."
   ]
  },
  {
   "cell_type": "code",
   "execution_count": 88,
   "id": "d946e2e8",
   "metadata": {},
   "outputs": [],
   "source": [
    "import imblearn\n",
    "from imblearn.under_sampling import RandomUnderSampler  \n",
    "                                                        #Doing Under sampling to make data balance\n",
    "under_sampler = RandomUnderSampler()\n",
    "X_res, y_res = under_sampler.fit_resample(csv_dt,result)"
   ]
  },
  {
   "cell_type": "code",
   "execution_count": 89,
   "id": "48b4ba18",
   "metadata": {},
   "outputs": [
    {
     "name": "stdout",
     "output_type": "stream",
     "text": [
      "8213\n",
      "8213\n"
     ]
    }
   ],
   "source": [
    "True_fraud=np.sum(y_res==1)\n",
    "False_fraud=np.sum(y_res==0)\n",
    "print(True_fraud)\n",
    "print(False_fraud)"
   ]
  },
  {
   "cell_type": "code",
   "execution_count": 90,
   "id": "b748b879",
   "metadata": {},
   "outputs": [],
   "source": [
    "from sklearn.model_selection import train_test_split\n",
    "x_train,x_test,y_train,y_test=train_test_split(X_res,y_res,test_size=0.20,random_state=42)"
   ]
  },
  {
   "cell_type": "code",
   "execution_count": 91,
   "id": "a3605af1",
   "metadata": {},
   "outputs": [],
   "source": [
    "le = preprocessing.LabelEncoder()\n",
    "le.fit(csv_dt['type'])\n",
    "train_type=le.transform(x_train['type'])\n",
    "test_type=le.transform(x_test['type'])"
   ]
  },
  {
   "cell_type": "code",
   "execution_count": 92,
   "id": "dff44e98",
   "metadata": {},
   "outputs": [],
   "source": [
    "le2=preprocessing.LabelEncoder()\n",
    "le2.fit(csv_dt['nameOrig'])\n",
    "train_nameOrig=le2.transform(x_train['nameOrig'])\n",
    "test_nameOrig=le2.transform(x_test['nameOrig'])"
   ]
  },
  {
   "cell_type": "code",
   "execution_count": 93,
   "id": "0dc7d5f3",
   "metadata": {},
   "outputs": [],
   "source": [
    "le3=preprocessing.LabelEncoder()\n",
    "le3.fit(csv_dt['nameDest'])\n",
    "train_nameDest=le3.transform(x_train['nameDest'])\n",
    "test_nameDest=le3.transform(x_test['nameDest'])"
   ]
  },
  {
   "cell_type": "code",
   "execution_count": 94,
   "id": "6f403e3e",
   "metadata": {},
   "outputs": [],
   "source": [
    "x_train.drop(['type','nameOrig','nameDest'],axis=1,inplace=True)"
   ]
  },
  {
   "cell_type": "code",
   "execution_count": 95,
   "id": "8d41a626",
   "metadata": {},
   "outputs": [],
   "source": [
    "x_train['type']=train_type\n",
    "x_train['nameOrig']=train_nameOrig\n",
    "x_train['nameDest']=train_nameDest"
   ]
  },
  {
   "cell_type": "code",
   "execution_count": 96,
   "id": "b059aa65",
   "metadata": {},
   "outputs": [],
   "source": [
    "x_test.drop(['type','nameOrig','nameDest'],axis=1,inplace=True)"
   ]
  },
  {
   "cell_type": "code",
   "execution_count": 97,
   "id": "5229547f",
   "metadata": {},
   "outputs": [],
   "source": [
    "x_test['type']=test_type\n",
    "x_test['nameOrig']=test_nameOrig\n",
    "x_test['nameDest']=test_nameDest"
   ]
  },
  {
   "cell_type": "code",
   "execution_count": 98,
   "id": "07bfc8ff",
   "metadata": {},
   "outputs": [],
   "source": [
    "import xgboost as xgb\n",
    "xgb_model  = xgb.XGBClassifier()"
   ]
  },
  {
   "cell_type": "code",
   "execution_count": 99,
   "id": "b2fb6410",
   "metadata": {},
   "outputs": [
    {
     "data": {
      "text/html": [
       "<style>#sk-container-id-3 {color: black;background-color: white;}#sk-container-id-3 pre{padding: 0;}#sk-container-id-3 div.sk-toggleable {background-color: white;}#sk-container-id-3 label.sk-toggleable__label {cursor: pointer;display: block;width: 100%;margin-bottom: 0;padding: 0.3em;box-sizing: border-box;text-align: center;}#sk-container-id-3 label.sk-toggleable__label-arrow:before {content: \"▸\";float: left;margin-right: 0.25em;color: #696969;}#sk-container-id-3 label.sk-toggleable__label-arrow:hover:before {color: black;}#sk-container-id-3 div.sk-estimator:hover label.sk-toggleable__label-arrow:before {color: black;}#sk-container-id-3 div.sk-toggleable__content {max-height: 0;max-width: 0;overflow: hidden;text-align: left;background-color: #f0f8ff;}#sk-container-id-3 div.sk-toggleable__content pre {margin: 0.2em;color: black;border-radius: 0.25em;background-color: #f0f8ff;}#sk-container-id-3 input.sk-toggleable__control:checked~div.sk-toggleable__content {max-height: 200px;max-width: 100%;overflow: auto;}#sk-container-id-3 input.sk-toggleable__control:checked~label.sk-toggleable__label-arrow:before {content: \"▾\";}#sk-container-id-3 div.sk-estimator input.sk-toggleable__control:checked~label.sk-toggleable__label {background-color: #d4ebff;}#sk-container-id-3 div.sk-label input.sk-toggleable__control:checked~label.sk-toggleable__label {background-color: #d4ebff;}#sk-container-id-3 input.sk-hidden--visually {border: 0;clip: rect(1px 1px 1px 1px);clip: rect(1px, 1px, 1px, 1px);height: 1px;margin: -1px;overflow: hidden;padding: 0;position: absolute;width: 1px;}#sk-container-id-3 div.sk-estimator {font-family: monospace;background-color: #f0f8ff;border: 1px dotted black;border-radius: 0.25em;box-sizing: border-box;margin-bottom: 0.5em;}#sk-container-id-3 div.sk-estimator:hover {background-color: #d4ebff;}#sk-container-id-3 div.sk-parallel-item::after {content: \"\";width: 100%;border-bottom: 1px solid gray;flex-grow: 1;}#sk-container-id-3 div.sk-label:hover label.sk-toggleable__label {background-color: #d4ebff;}#sk-container-id-3 div.sk-serial::before {content: \"\";position: absolute;border-left: 1px solid gray;box-sizing: border-box;top: 0;bottom: 0;left: 50%;z-index: 0;}#sk-container-id-3 div.sk-serial {display: flex;flex-direction: column;align-items: center;background-color: white;padding-right: 0.2em;padding-left: 0.2em;position: relative;}#sk-container-id-3 div.sk-item {position: relative;z-index: 1;}#sk-container-id-3 div.sk-parallel {display: flex;align-items: stretch;justify-content: center;background-color: white;position: relative;}#sk-container-id-3 div.sk-item::before, #sk-container-id-3 div.sk-parallel-item::before {content: \"\";position: absolute;border-left: 1px solid gray;box-sizing: border-box;top: 0;bottom: 0;left: 50%;z-index: -1;}#sk-container-id-3 div.sk-parallel-item {display: flex;flex-direction: column;z-index: 1;position: relative;background-color: white;}#sk-container-id-3 div.sk-parallel-item:first-child::after {align-self: flex-end;width: 50%;}#sk-container-id-3 div.sk-parallel-item:last-child::after {align-self: flex-start;width: 50%;}#sk-container-id-3 div.sk-parallel-item:only-child::after {width: 0;}#sk-container-id-3 div.sk-dashed-wrapped {border: 1px dashed gray;margin: 0 0.4em 0.5em 0.4em;box-sizing: border-box;padding-bottom: 0.4em;background-color: white;}#sk-container-id-3 div.sk-label label {font-family: monospace;font-weight: bold;display: inline-block;line-height: 1.2em;}#sk-container-id-3 div.sk-label-container {text-align: center;}#sk-container-id-3 div.sk-container {/* jupyter's `normalize.less` sets `[hidden] { display: none; }` but bootstrap.min.css set `[hidden] { display: none !important; }` so we also need the `!important` here to be able to override the default hidden behavior on the sphinx rendered scikit-learn.org. See: https://github.com/scikit-learn/scikit-learn/issues/21755 */display: inline-block !important;position: relative;}#sk-container-id-3 div.sk-text-repr-fallback {display: none;}</style><div id=\"sk-container-id-3\" class=\"sk-top-container\"><div class=\"sk-text-repr-fallback\"><pre>GridSearchCV(cv=3,\n",
       "             estimator=XGBClassifier(base_score=None, booster=None,\n",
       "                                     callbacks=None, colsample_bylevel=None,\n",
       "                                     colsample_bynode=None,\n",
       "                                     colsample_bytree=None,\n",
       "                                     early_stopping_rounds=None,\n",
       "                                     enable_categorical=False, eval_metric=None,\n",
       "                                     gamma=None, gpu_id=None, grow_policy=None,\n",
       "                                     importance_type=None,\n",
       "                                     interaction_constraints=None,\n",
       "                                     learning_rate=None, max_bin=None,\n",
       "                                     max_cat_to_onehot=None,\n",
       "                                     max_delta_step=None, max_depth=None,\n",
       "                                     max_leaves=None, min_child_weight=None,\n",
       "                                     missing=nan, monotone_constraints=None,\n",
       "                                     n_estimators=100, n_jobs=None,\n",
       "                                     num_parallel_tree=None, predictor=None,\n",
       "                                     random_state=None, reg_alpha=None,\n",
       "                                     reg_lambda=None, ...),\n",
       "             n_jobs=-1, param_grid={&#x27;max_depth&#x27;: [1, 2, 3, 4]},\n",
       "             return_train_score=True, scoring=&#x27;roc_auc&#x27;)</pre><b>In a Jupyter environment, please rerun this cell to show the HTML representation or trust the notebook. <br />On GitHub, the HTML representation is unable to render, please try loading this page with nbviewer.org.</b></div><div class=\"sk-container\" hidden><div class=\"sk-item sk-dashed-wrapped\"><div class=\"sk-label-container\"><div class=\"sk-label sk-toggleable\"><input class=\"sk-toggleable__control sk-hidden--visually\" id=\"sk-estimator-id-7\" type=\"checkbox\" ><label for=\"sk-estimator-id-7\" class=\"sk-toggleable__label sk-toggleable__label-arrow\">GridSearchCV</label><div class=\"sk-toggleable__content\"><pre>GridSearchCV(cv=3,\n",
       "             estimator=XGBClassifier(base_score=None, booster=None,\n",
       "                                     callbacks=None, colsample_bylevel=None,\n",
       "                                     colsample_bynode=None,\n",
       "                                     colsample_bytree=None,\n",
       "                                     early_stopping_rounds=None,\n",
       "                                     enable_categorical=False, eval_metric=None,\n",
       "                                     gamma=None, gpu_id=None, grow_policy=None,\n",
       "                                     importance_type=None,\n",
       "                                     interaction_constraints=None,\n",
       "                                     learning_rate=None, max_bin=None,\n",
       "                                     max_cat_to_onehot=None,\n",
       "                                     max_delta_step=None, max_depth=None,\n",
       "                                     max_leaves=None, min_child_weight=None,\n",
       "                                     missing=nan, monotone_constraints=None,\n",
       "                                     n_estimators=100, n_jobs=None,\n",
       "                                     num_parallel_tree=None, predictor=None,\n",
       "                                     random_state=None, reg_alpha=None,\n",
       "                                     reg_lambda=None, ...),\n",
       "             n_jobs=-1, param_grid={&#x27;max_depth&#x27;: [1, 2, 3, 4]},\n",
       "             return_train_score=True, scoring=&#x27;roc_auc&#x27;)</pre></div></div></div><div class=\"sk-parallel\"><div class=\"sk-parallel-item\"><div class=\"sk-item\"><div class=\"sk-label-container\"><div class=\"sk-label sk-toggleable\"><input class=\"sk-toggleable__control sk-hidden--visually\" id=\"sk-estimator-id-8\" type=\"checkbox\" ><label for=\"sk-estimator-id-8\" class=\"sk-toggleable__label sk-toggleable__label-arrow\">estimator: XGBClassifier</label><div class=\"sk-toggleable__content\"><pre>XGBClassifier(base_score=None, booster=None, callbacks=None,\n",
       "              colsample_bylevel=None, colsample_bynode=None,\n",
       "              colsample_bytree=None, early_stopping_rounds=None,\n",
       "              enable_categorical=False, eval_metric=None, gamma=None,\n",
       "              gpu_id=None, grow_policy=None, importance_type=None,\n",
       "              interaction_constraints=None, learning_rate=None, max_bin=None,\n",
       "              max_cat_to_onehot=None, max_delta_step=None, max_depth=None,\n",
       "              max_leaves=None, min_child_weight=None, missing=nan,\n",
       "              monotone_constraints=None, n_estimators=100, n_jobs=None,\n",
       "              num_parallel_tree=None, predictor=None, random_state=None,\n",
       "              reg_alpha=None, reg_lambda=None, ...)</pre></div></div></div><div class=\"sk-serial\"><div class=\"sk-item\"><div class=\"sk-estimator sk-toggleable\"><input class=\"sk-toggleable__control sk-hidden--visually\" id=\"sk-estimator-id-9\" type=\"checkbox\" ><label for=\"sk-estimator-id-9\" class=\"sk-toggleable__label sk-toggleable__label-arrow\">XGBClassifier</label><div class=\"sk-toggleable__content\"><pre>XGBClassifier(base_score=None, booster=None, callbacks=None,\n",
       "              colsample_bylevel=None, colsample_bynode=None,\n",
       "              colsample_bytree=None, early_stopping_rounds=None,\n",
       "              enable_categorical=False, eval_metric=None, gamma=None,\n",
       "              gpu_id=None, grow_policy=None, importance_type=None,\n",
       "              interaction_constraints=None, learning_rate=None, max_bin=None,\n",
       "              max_cat_to_onehot=None, max_delta_step=None, max_depth=None,\n",
       "              max_leaves=None, min_child_weight=None, missing=nan,\n",
       "              monotone_constraints=None, n_estimators=100, n_jobs=None,\n",
       "              num_parallel_tree=None, predictor=None, random_state=None,\n",
       "              reg_alpha=None, reg_lambda=None, ...)</pre></div></div></div></div></div></div></div></div></div></div>"
      ],
      "text/plain": [
       "GridSearchCV(cv=3,\n",
       "             estimator=XGBClassifier(base_score=None, booster=None,\n",
       "                                     callbacks=None, colsample_bylevel=None,\n",
       "                                     colsample_bynode=None,\n",
       "                                     colsample_bytree=None,\n",
       "                                     early_stopping_rounds=None,\n",
       "                                     enable_categorical=False, eval_metric=None,\n",
       "                                     gamma=None, gpu_id=None, grow_policy=None,\n",
       "                                     importance_type=None,\n",
       "                                     interaction_constraints=None,\n",
       "                                     learning_rate=None, max_bin=None,\n",
       "                                     max_cat_to_onehot=None,\n",
       "                                     max_delta_step=None, max_depth=None,\n",
       "                                     max_leaves=None, min_child_weight=None,\n",
       "                                     missing=nan, monotone_constraints=None,\n",
       "                                     n_estimators=100, n_jobs=None,\n",
       "                                     num_parallel_tree=None, predictor=None,\n",
       "                                     random_state=None, reg_alpha=None,\n",
       "                                     reg_lambda=None, ...),\n",
       "             n_jobs=-1, param_grid={'max_depth': [1, 2, 3, 4]},\n",
       "             return_train_score=True, scoring='roc_auc')"
      ]
     },
     "execution_count": 99,
     "metadata": {},
     "output_type": "execute_result"
    }
   ],
   "source": [
    "from sklearn.model_selection import GridSearchCV\n",
    "parameters = {'max_depth':[1,2,3,4] }\n",
    "clf = GridSearchCV(xgb.XGBClassifier(), parameters, cv=3, scoring='roc_auc',return_train_score=True,n_jobs=-1)\n",
    "clf.fit(x_train,y_train)"
   ]
  },
  {
   "cell_type": "code",
   "execution_count": 100,
   "id": "f8192ada",
   "metadata": {},
   "outputs": [
    {
     "name": "stdout",
     "output_type": "stream",
     "text": [
      "Best Parameter {'max_depth': 3}\n"
     ]
    },
    {
     "data": {
      "image/png": "[encoded data removed]",
      "text/plain": [
       "<Figure size 432x288 with 1 Axes>"
      ]
     },
     "metadata": {
      "needs_background": "light"
     },
     "output_type": "display_data"
    }
   ],
   "source": [
    "import matplotlib.pyplot as plt\n",
    "max_depth=[1,2,3,4]\n",
    "df=pd.DataFrame.from_dict(clf.cv_results_)\n",
    "train_auc=df['mean_train_score']\n",
    "test_auc=df['mean_test_score']\n",
    "plt.grid()\n",
    "plt.plot(max_depth,train_auc,label='Train-Auc')\n",
    "plt.plot(max_depth,test_auc,label='Test-Auc')\n",
    "plt.legend()\n",
    "plt.title('Depth vs Auc')\n",
    "print('Best Parameter',clf.best_params_)"
   ]
  },
  {
   "cell_type": "code",
   "execution_count": 101,
   "id": "0ae09383",
   "metadata": {},
   "outputs": [
    {
     "data": {
      "image/png": "[encoded data removed]",
      "text/plain": [
       "<Figure size 576x432 with 1 Axes>"
      ]
     },
     "metadata": {
      "needs_background": "light"
     },
     "output_type": "display_data"
    }
   ],
   "source": [
    "from sklearn.metrics import roc_curve, auc\n",
    "\n",
    "model_set=xgb.XGBClassifier(max_depth=4)\n",
    "model_set.fit(x_train,y_train)\n",
    "y_train_probs = model_set.predict_proba(x_train)[:,1] # converting train and test output into probability\n",
    "y_test_probs= model_set.predict_proba(x_test)[:,1]\n",
    "train_fpr, train_tpr, tr_thresholds = roc_curve(y_train, y_train_probs) # storing values of fpr and tpr\n",
    "test_fpr, test_tpr, te_thresholds = roc_curve(y_test, y_test_probs)\n",
    "plt.figure(figsize=(8,6))\n",
    "plt.plot(train_fpr, train_tpr, label='Train AUC ='+str(auc(train_fpr, train_tpr)))\n",
    "plt.plot(test_fpr, test_tpr, label='Test AUC ='+str(auc(test_fpr, test_tpr)))\n",
    "plt.legend()\n",
    "plt.xlabel('False Positive Rate(FPR)')\n",
    "plt.ylabel('True Positive Rate(TPR)')\n",
    "plt.title('AUC')\n",
    "plt.grid(color='black',lw=0.5)"
   ]
  },
  {
   "cell_type": "code",
   "execution_count": 102,
   "id": "0d15ac8b",
   "metadata": {},
   "outputs": [],
   "source": [
    "def find_best_threshold(threshould, fpr, tpr):\n",
    " t = threshould[np.argmax(tpr*(1-fpr))]\n",
    " print(\"the maximum value of tpr*(1-fpr)\", max(tpr*(1-fpr)), \"for threshold\", np.round(t,3))\n",
    " return t\n",
    "def predict_with_best_t(proba, threshould):\n",
    "  prediction=[]\n",
    "  for i in proba:\n",
    "    if i>=threshould:\n",
    "      prediction.append(1)\n",
    "    else:\n",
    "      prediction.append(0)\n",
    "  return prediction"
   ]
  },
  {
   "cell_type": "code",
   "execution_count": 103,
   "id": "794339f0",
   "metadata": {},
   "outputs": [
    {
     "name": "stdout",
     "output_type": "stream",
     "text": [
      "the maximum value of tpr*(1-fpr) 0.9218326970751025 for threshold 0.35\n",
      "Train confusion matrix\n",
      "[[6299  265]\n",
      " [ 259 6317]]\n"
     ]
    }
   ],
   "source": [
    "from sklearn.metrics import confusion_matrix\n",
    "best_t = find_best_threshold(tr_thresholds, train_fpr, train_tpr)\n",
    "print(\"Train confusion matrix\")\n",
    "m=predict_with_best_t(y_train_probs, best_t)\n",
    "k=confusion_matrix(y_train,m)\n",
    "print(k)"
   ]
  },
  {
   "cell_type": "code",
   "execution_count": 104,
   "id": "cade02e9",
   "metadata": {},
   "outputs": [
    {
     "data": {
      "text/plain": [
       "<AxesSubplot:title={'center':'Train data'}>"
      ]
     },
     "execution_count": 104,
     "metadata": {},
     "output_type": "execute_result"
    },
    {
     "data": {
      "image/png": "[encoded data removed]",
      "text/plain": [
       "<Figure size 432x288 with 2 Axes>"
      ]
     },
     "metadata": {
      "needs_background": "light"
     },
     "output_type": "display_data"
    }
   ],
   "source": [
    "import matplotlib.pyplot as plt \n",
    "import seaborn as sea\n",
    "plt.title('Train data')\n",
    "sea.heatmap(k, annot=True,fmt='d',cmap='Greens')"
   ]
  },
  {
   "cell_type": "code",
   "execution_count": 107,
   "id": "cd26154f",
   "metadata": {},
   "outputs": [
    {
     "name": "stdout",
     "output_type": "stream",
     "text": [
      "the maximum value of tpr*(1-fpr) 0.891522712530465 for threshold 0.536\n",
      "Test confusion matrix\n",
      "[[1598   51]\n",
      " [ 131 1506]]\n"
     ]
    }
   ],
   "source": [
    "best_t = find_best_threshold(te_thresholds, test_fpr, test_tpr)\n",
    "print('Test confusion matrix')\n",
    "m=predict_with_best_t(y_test_probs, best_t)\n",
    "performance=confusion_matrix(y_test,m)\n",
    "print(performance)"
   ]
  },
  {
   "cell_type": "code",
   "execution_count": 109,
   "id": "5ef6e433",
   "metadata": {},
   "outputs": [
    {
     "data": {
      "text/plain": [
       "<AxesSubplot:title={'center':'Test data'}>"
      ]
     },
     "execution_count": 109,
     "metadata": {},
     "output_type": "execute_result"
    },
    {
     "data": {
      "image/png": "[encoded data removed]",
      "text/plain": [
       "<Figure size 432x288 with 2 Axes>"
      ]
     },
     "metadata": {
      "needs_background": "light"
     },
     "output_type": "display_data"
    }
   ],
   "source": [
    "import matplotlib.pyplot as plt \n",
    "import seaborn as sea\n",
    "plt.title('Test data')\n",
    "sea.heatmap(performance, annot=True,fmt='d',cmap='Greens')"
   ]
  },
  {
   "cell_type": "markdown",
   "id": "e3e6ecd2",
   "metadata": {},
   "source": [
    "1. Data cleaning including outliers and multi-collinearity has been done.\n",
    "\n",
    "3. As this is a logistic regression because we calculate a customer is or isn't fraud and according this data we are trying to figure out future preventation to this type of fraudulent transactions based on this criteria isFraud and isFlaggedFraud are dependent variables here.\n",
    "\n",
    "\n",
    "4. Some of the tools we used are Seaborn, Xgboost, sklearn,stats model and VIF, tqdm, GridSearchCV their advantages and disadvantages are given in the markdown section below or avobe the block of codes thay are used. as it is a balanced data we can say that it will work well in unseen data.\n",
    "\n",
    "\n",
    "7.For Fraud prevention we should look into the FN values like if it is very high then we have to add some other system to work on.\n",
    "\n",
    "8 Here Accuracy of the model is high, we can see in the model graphs. So it safe to say with more testing it can be implemented. here from confusion matrix we can conclude that has very good value in Truepositive and TrueNegetive."
   ]
  },
  {
   "cell_type": "markdown",
   "id": "254c7c59",
   "metadata": {},
   "source": [
    "## 2. Description of my fraud detection model in elaboration. \n",
    "\n",
    "#### First we *Import* :\n",
    "##### `Pandas` : open source Python package that is most widely used for data science/data analysis and machine learning tasks. `NUmpy` a library having multidimensional array objects and a collection of routines for processing those arrays. `Seaborn`, a Python data visualization library based on matplotlib.\n",
    "\n",
    "#### Now we read our given `Fraud.csv` file with `read_csv`. And keeping data in `csv_dt` variable. Here I printed FIRST and LAST FIVE rows using `head() and tail()` function.\n",
    "\n",
    "##### We use `Shape` will give us the dimension of our `csv_dt` file.\n",
    "\n",
    "#### `Boxplot` is created to display the summary of the set of *amount* data along with X axis.\n",
    "#### `Countplot` method is used to show the counts of observations in each categorical bin using bars.\n",
    "\n",
    "####  Here `.nunique()` method returns the number of unique values for each column. Here we print unique values of nameOrig and nameDest.\n",
    "\n",
    "#### Here value of nameOrig is `6353307` and nameDest is `2722362`\n",
    "\n",
    "### Now lets check Multi_Colinearity\n",
    "\n",
    "#### To check multicollinearity we use `Variance Inflation Factor(VIF) technique`. `Statsmodels` is a Python module that provides classes and functions for the estimation of many different statistical models, as well as for conducting statistical tests, and statistical data exploration\n",
    "\n",
    "#### From Vif_data we see the `oldbalanceOrg` and `newbalanceOrig` has high `Variance Inflation Factor(VIF)` so we say that these two have multi-colinearity. \n",
    "\n",
    "####  `tqdm` is a library in python which is used to create progress meters and progress bars.\n",
    "\n",
    "##### To solve this using multi-colinearity using `tqdm` we remove oldbalnceorg and newbalaceorig and `append` the difference of column in the data set with respect  to the `range` of the `value of length of oldBalance` .\n",
    "\n",
    "\n",
    "#### But it is also noticable that `oldbalanceDest` and `newbalanceDest` has some degree of `multi-colinearity`.\n",
    "\n",
    "##### To solve this multi-colinearity we remove oldbalanceDest and newbalaceDest and `append` the difference of column in the data set with respect  to the `range` of the `value of length of oldDest` .\n",
    "\n",
    "#### Now Lets check colinearity on Data after Featurization.\n",
    "\n",
    "#### We can Clearly observe that: \n",
    "    1.Here the data is imbalanced.\n",
    "\n",
    "    2.We'll apply downsampling on the data basically here the size of True_fraud and False_fraud will be same.\n",
    "\n",
    "    3. But first lets work imbalance data.\n",
    "\n",
    "#### Working With Imbalanced Data.\n",
    "\n",
    "We import train_test_split from sklearn.model_selection,\n",
    "Then we divided the data into x_train, x_test and kept the test_size and random_state in y_train and y_test respectively using train_test_split.\n",
    "then we print the values of x_train,x_test,y_train,y_test.\n",
    "\n",
    "\n",
    "#### `The test_size=0.2` inside the function indicates the percentage of the data that should be held over for testing. We use`random_state to 42` to ensure that we get same result in this case same test set every time we run our code again, other wise different outcomes will occur in different test runs.\n",
    "\n",
    "#### `train_test_split` is a function of sklearn.model_selection for dividing data into two subset here training data and test data without manual coding.\n",
    "\n",
    "#### Categorical Data\n",
    "\n",
    "After importing preprocessing from sklearn, we created three LabelEncoder name le, le2 ,le3 we took the csv ['type','nameOrig','nameDest'] data and transformed then into (train_type, test_type),(train_nameOrig, test_nameOrig),(train_nameDest, test_nameDest) and put (train_type,train_nameOrig,train_nameDest) in x_train and dropped it in data set. (test_type,test_nameOrig,test_nameDest) in x_test and dropped it in data set.\n",
    "\n",
    "#### We are going to use Xgboost to train the model\n",
    "\n",
    "#### Beacuse:\n",
    "\n",
    "1.XGBoost stands for Extreme Gradient Boosting. It uses more accurate approximations to find the best tree model.\n",
    "\n",
    "2.Here we see that amount Data has very much outliers and xgboost is not influenced by outliers\n",
    "\n",
    "### HyperParameter Tuning on xgboost\n",
    "\n",
    "After importing XgBoost we creat xg model with XGBClassifier, then we from sklearn.model_selection import GridSearchCV, it took approximately 40 minutes to load data. we set parameter with max dept of [1,2,3,4].\n",
    "Then with matplotlib.pyplot we created a graph representation of Depth vs Auccuracy where best parameter is 4.\n",
    "Next from sklearn.metrics we import roc_curve, auc and with GridSearchCV of max Depth 4 we created a AUC graph representation of True Positive Rate(TPR) and False Positive Rate(FPR).\n",
    "\n",
    "Then we created a plot of test data and train data using confusion_metrix from sklearn_metrics, matplotlib.plotly and seaborn.\n",
    "#### GridSearchCV is a technique to search through the best parameter values from the given set of the grid of parameters. It is basically a cross-validation method. But GridSearchCV will take some time (30 to 40 minutes) so do not worry our code isn't broken.\n",
    "\n",
    "#### Working With balanced Data.\n",
    "Working with Balanced Data is similar to working with imbalanced data but Here we'll use `RandomUnderSampler` from `imblearn.undersampler`.\n",
    "\n",
    "\n",
    "\n",
    "\n",
    "## 8 Here Accuracy of the model is high, we can see in the model graphs. So it safe to say with more testing it can be implemented. here from confusion matrix we can conclude that has very good value in Truepositive and TrueNegetive.\n",
    "\n"
   ]
  }
 ],
 "metadata": {
  "kernelspec": {
   "display_name": "Python 3 (ipykernel)",
   "language": "python",
   "name": "python3"
  },
  "language_info": {
   "codemirror_mode": {
    "name": "ipython",
    "version": 3
   },
   "file_extension": ".py",
   "mimetype": "text/x-python",
   "name": "python",
   "nbconvert_exporter": "python",
   "pygments_lexer": "ipython3",
   "version": "3.9.12"
  }
 },
 "nbformat": 4,
 "nbformat_minor": 5
}
